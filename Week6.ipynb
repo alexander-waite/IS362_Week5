{
 "cells": [
  {
   "cell_type": "code",
   "execution_count": 13,
   "id": "e3343009",
   "metadata": {},
   "outputs": [],
   "source": [
    "import pandas as pd\n",
    "import numpy as np"
   ]
  },
  {
   "cell_type": "code",
   "execution_count": 20,
   "id": "12d4f629",
   "metadata": {},
   "outputs": [],
   "source": [
    "airlines = pd.read_csv('https://raw.githubusercontent.com/tidyverse/nycflights13/master/data-raw/airlines.csv')\n",
    "airports = pd.read_csv('https://raw.githubusercontent.com/tidyverse/nycflights13/master/data-raw/airports.csv')\n",
    "planes = pd.read_csv('https://raw.githubusercontent.com/tidyverse/nycflights13/master/data-raw/planes.csv')\n",
    "weather = pd.read_csv('https://raw.githubusercontent.com/tidyverse/nycflights13/master/data-raw/weather.csv')\n"
   ]
  },
  {
   "cell_type": "markdown",
   "id": "b06f3e06",
   "metadata": {},
   "source": [
    "Your task in this week’s assignment is to answer three questions: \n",
    "1. What is the northernmost airport in the United States? \n",
    "2. What is the easternmost airport in the United States? \n",
    "3. On February 12th, 2013, which New York area airport had the windiest weather? "
   ]
  },
  {
   "cell_type": "markdown",
   "id": "b09a654a",
   "metadata": {},
   "source": [
    "#### What is the northernmost airport in the United States?"
   ]
  },
  {
   "cell_type": "code",
   "execution_count": 128,
   "id": "26d499f9",
   "metadata": {},
   "outputs": [
    {
     "data": {
      "text/html": [
       "<div>\n",
       "<style scoped>\n",
       "    .dataframe tbody tr th:only-of-type {\n",
       "        vertical-align: middle;\n",
       "    }\n",
       "\n",
       "    .dataframe tbody tr th {\n",
       "        vertical-align: top;\n",
       "    }\n",
       "\n",
       "    .dataframe thead th {\n",
       "        text-align: right;\n",
       "    }\n",
       "</style>\n",
       "<table border=\"1\" class=\"dataframe\">\n",
       "  <thead>\n",
       "    <tr style=\"text-align: right;\">\n",
       "      <th></th>\n",
       "      <th>faa</th>\n",
       "      <th>name</th>\n",
       "      <th>lat</th>\n",
       "      <th>lon</th>\n",
       "      <th>alt</th>\n",
       "      <th>tz</th>\n",
       "      <th>dst</th>\n",
       "      <th>tzone</th>\n",
       "    </tr>\n",
       "  </thead>\n",
       "  <tbody>\n",
       "    <tr>\n",
       "      <th>0</th>\n",
       "      <td>04G</td>\n",
       "      <td>Lansdowne Airport</td>\n",
       "      <td>41.130472</td>\n",
       "      <td>-80.619583</td>\n",
       "      <td>1044</td>\n",
       "      <td>-5</td>\n",
       "      <td>A</td>\n",
       "      <td>America/New_York</td>\n",
       "    </tr>\n",
       "    <tr>\n",
       "      <th>1</th>\n",
       "      <td>06A</td>\n",
       "      <td>Moton Field Municipal Airport</td>\n",
       "      <td>32.460572</td>\n",
       "      <td>-85.680028</td>\n",
       "      <td>264</td>\n",
       "      <td>-6</td>\n",
       "      <td>A</td>\n",
       "      <td>America/Chicago</td>\n",
       "    </tr>\n",
       "    <tr>\n",
       "      <th>2</th>\n",
       "      <td>06C</td>\n",
       "      <td>Schaumburg Regional</td>\n",
       "      <td>41.989341</td>\n",
       "      <td>-88.101243</td>\n",
       "      <td>801</td>\n",
       "      <td>-6</td>\n",
       "      <td>A</td>\n",
       "      <td>America/Chicago</td>\n",
       "    </tr>\n",
       "    <tr>\n",
       "      <th>3</th>\n",
       "      <td>06N</td>\n",
       "      <td>Randall Airport</td>\n",
       "      <td>41.431912</td>\n",
       "      <td>-74.391561</td>\n",
       "      <td>523</td>\n",
       "      <td>-5</td>\n",
       "      <td>A</td>\n",
       "      <td>America/New_York</td>\n",
       "    </tr>\n",
       "    <tr>\n",
       "      <th>4</th>\n",
       "      <td>09J</td>\n",
       "      <td>Jekyll Island Airport</td>\n",
       "      <td>31.074472</td>\n",
       "      <td>-81.427778</td>\n",
       "      <td>11</td>\n",
       "      <td>-5</td>\n",
       "      <td>A</td>\n",
       "      <td>America/New_York</td>\n",
       "    </tr>\n",
       "  </tbody>\n",
       "</table>\n",
       "</div>"
      ],
      "text/plain": [
       "   faa                           name        lat        lon   alt  tz dst  \\\n",
       "0  04G              Lansdowne Airport  41.130472 -80.619583  1044  -5   A   \n",
       "1  06A  Moton Field Municipal Airport  32.460572 -85.680028   264  -6   A   \n",
       "2  06C            Schaumburg Regional  41.989341 -88.101243   801  -6   A   \n",
       "3  06N                Randall Airport  41.431912 -74.391561   523  -5   A   \n",
       "4  09J          Jekyll Island Airport  31.074472 -81.427778    11  -5   A   \n",
       "\n",
       "              tzone  \n",
       "0  America/New_York  \n",
       "1   America/Chicago  \n",
       "2   America/Chicago  \n",
       "3  America/New_York  \n",
       "4  America/New_York  "
      ]
     },
     "execution_count": 128,
     "metadata": {},
     "output_type": "execute_result"
    }
   ],
   "source": [
    "airports.head()"
   ]
  },
  {
   "cell_type": "markdown",
   "id": "e902f41a",
   "metadata": {},
   "source": [
    "Latitude is expressed in degrees above or below the equator, positive values being north and negative values being south."
   ]
  },
  {
   "cell_type": "code",
   "execution_count": 140,
   "id": "aa7eb341",
   "metadata": {},
   "outputs": [
    {
     "data": {
      "text/html": [
       "<div>\n",
       "<style scoped>\n",
       "    .dataframe tbody tr th:only-of-type {\n",
       "        vertical-align: middle;\n",
       "    }\n",
       "\n",
       "    .dataframe tbody tr th {\n",
       "        vertical-align: top;\n",
       "    }\n",
       "\n",
       "    .dataframe thead th {\n",
       "        text-align: right;\n",
       "    }\n",
       "</style>\n",
       "<table border=\"1\" class=\"dataframe\">\n",
       "  <thead>\n",
       "    <tr style=\"text-align: right;\">\n",
       "      <th></th>\n",
       "      <th>faa</th>\n",
       "      <th>name</th>\n",
       "      <th>lat</th>\n",
       "      <th>lon</th>\n",
       "      <th>alt</th>\n",
       "      <th>tz</th>\n",
       "      <th>dst</th>\n",
       "      <th>tzone</th>\n",
       "    </tr>\n",
       "  </thead>\n",
       "  <tbody>\n",
       "    <tr>\n",
       "      <th>417</th>\n",
       "      <td>EEN</td>\n",
       "      <td>Dillant Hopkins Airport</td>\n",
       "      <td>72.270833</td>\n",
       "      <td>42.898333</td>\n",
       "      <td>149</td>\n",
       "      <td>-5</td>\n",
       "      <td>A</td>\n",
       "      <td>NaN</td>\n",
       "    </tr>\n",
       "    <tr>\n",
       "      <th>230</th>\n",
       "      <td>BRW</td>\n",
       "      <td>Wiley Post Will Rogers Mem</td>\n",
       "      <td>71.285446</td>\n",
       "      <td>-156.766003</td>\n",
       "      <td>44</td>\n",
       "      <td>-9</td>\n",
       "      <td>A</td>\n",
       "      <td>America/Anchorage</td>\n",
       "    </tr>\n",
       "    <tr>\n",
       "      <th>110</th>\n",
       "      <td>AIN</td>\n",
       "      <td>Wainwright Airport</td>\n",
       "      <td>70.638056</td>\n",
       "      <td>-159.994722</td>\n",
       "      <td>41</td>\n",
       "      <td>-9</td>\n",
       "      <td>A</td>\n",
       "      <td>America/Anchorage</td>\n",
       "    </tr>\n",
       "    <tr>\n",
       "      <th>708</th>\n",
       "      <td>K03</td>\n",
       "      <td>Wainwright As</td>\n",
       "      <td>70.613378</td>\n",
       "      <td>-159.860350</td>\n",
       "      <td>35</td>\n",
       "      <td>-9</td>\n",
       "      <td>A</td>\n",
       "      <td>America/Anchorage</td>\n",
       "    </tr>\n",
       "    <tr>\n",
       "      <th>152</th>\n",
       "      <td>ATK</td>\n",
       "      <td>Atqasuk Edward Burnell Sr Memorial Airport</td>\n",
       "      <td>70.467300</td>\n",
       "      <td>-157.436000</td>\n",
       "      <td>96</td>\n",
       "      <td>-9</td>\n",
       "      <td>A</td>\n",
       "      <td>America/Anchorage</td>\n",
       "    </tr>\n",
       "  </tbody>\n",
       "</table>\n",
       "</div>"
      ],
      "text/plain": [
       "     faa                                        name        lat         lon  \\\n",
       "417  EEN                     Dillant Hopkins Airport  72.270833   42.898333   \n",
       "230  BRW                  Wiley Post Will Rogers Mem  71.285446 -156.766003   \n",
       "110  AIN                          Wainwright Airport  70.638056 -159.994722   \n",
       "708  K03                               Wainwright As  70.613378 -159.860350   \n",
       "152  ATK  Atqasuk Edward Burnell Sr Memorial Airport  70.467300 -157.436000   \n",
       "\n",
       "     alt  tz dst              tzone  \n",
       "417  149  -5   A                NaN  \n",
       "230   44  -9   A  America/Anchorage  \n",
       "110   41  -9   A  America/Anchorage  \n",
       "708   35  -9   A  America/Anchorage  \n",
       "152   96  -9   A  America/Anchorage  "
      ]
     },
     "execution_count": 140,
     "metadata": {},
     "output_type": "execute_result"
    }
   ],
   "source": [
    "airports.sort_values(by='lat', ascending=False).head()"
   ]
  },
  {
   "cell_type": "markdown",
   "id": "4404e7ae",
   "metadata": {},
   "source": [
    "We see that sorting shows up EEN or Dillant Hopkins Airport being the most northern. The other way we could look at this is by using the .max() method. While doing this we will need to account of NaN values. We can do this with a dropna method."
   ]
  },
  {
   "cell_type": "code",
   "execution_count": 141,
   "id": "5584a058",
   "metadata": {},
   "outputs": [
    {
     "data": {
      "text/plain": [
       "72.270833"
      ]
     },
     "execution_count": 141,
     "metadata": {},
     "output_type": "execute_result"
    }
   ],
   "source": [
    "airports.dropna(how='all').lat.max()"
   ]
  },
  {
   "cell_type": "markdown",
   "id": "3151e51e",
   "metadata": {},
   "source": [
    "we see that the max latitude is ~72.27. We can use a simple comparision to ensure this is our candidate."
   ]
  },
  {
   "cell_type": "code",
   "execution_count": 143,
   "id": "33d49095",
   "metadata": {},
   "outputs": [
    {
     "data": {
      "text/html": [
       "<div>\n",
       "<style scoped>\n",
       "    .dataframe tbody tr th:only-of-type {\n",
       "        vertical-align: middle;\n",
       "    }\n",
       "\n",
       "    .dataframe tbody tr th {\n",
       "        vertical-align: top;\n",
       "    }\n",
       "\n",
       "    .dataframe thead th {\n",
       "        text-align: right;\n",
       "    }\n",
       "</style>\n",
       "<table border=\"1\" class=\"dataframe\">\n",
       "  <thead>\n",
       "    <tr style=\"text-align: right;\">\n",
       "      <th></th>\n",
       "      <th>faa</th>\n",
       "      <th>name</th>\n",
       "      <th>lat</th>\n",
       "      <th>lon</th>\n",
       "      <th>alt</th>\n",
       "      <th>tz</th>\n",
       "      <th>dst</th>\n",
       "      <th>tzone</th>\n",
       "    </tr>\n",
       "  </thead>\n",
       "  <tbody>\n",
       "    <tr>\n",
       "      <th>417</th>\n",
       "      <td>EEN</td>\n",
       "      <td>Dillant Hopkins Airport</td>\n",
       "      <td>72.270833</td>\n",
       "      <td>42.898333</td>\n",
       "      <td>149</td>\n",
       "      <td>-5</td>\n",
       "      <td>A</td>\n",
       "      <td>NaN</td>\n",
       "    </tr>\n",
       "  </tbody>\n",
       "</table>\n",
       "</div>"
      ],
      "text/plain": [
       "     faa                     name        lat        lon  alt  tz dst tzone\n",
       "417  EEN  Dillant Hopkins Airport  72.270833  42.898333  149  -5   A   NaN"
      ]
     },
     "execution_count": 143,
     "metadata": {},
     "output_type": "execute_result"
    }
   ],
   "source": [
    "airports[(airports.lat) > 72]"
   ]
  },
  {
   "cell_type": "markdown",
   "id": "f5ae0037",
   "metadata": {},
   "source": [
    "Our answer is EEN or Dilliant Hopkins Airport."
   ]
  },
  {
   "cell_type": "markdown",
   "id": "66fe746b",
   "metadata": {},
   "source": [
    "___"
   ]
  },
  {
   "cell_type": "markdown",
   "id": "d96e6cf3",
   "metadata": {},
   "source": [
    "#### What is the easternmost airport in the United States? "
   ]
  },
  {
   "cell_type": "markdown",
   "id": "cd23207d",
   "metadata": {},
   "source": [
    "Longitude is expressed in degrees relative to the Prime Meridian, with positive degrees being eastern and negative degrees being western. In the case of our answer, it lies so close to the Prime Meridian that it ends up having a very high positive longitude and therefore takes 1st place."
   ]
  },
  {
   "cell_type": "code",
   "execution_count": 157,
   "id": "579863d3",
   "metadata": {},
   "outputs": [
    {
     "data": {
      "text/html": [
       "<div>\n",
       "<style scoped>\n",
       "    .dataframe tbody tr th:only-of-type {\n",
       "        vertical-align: middle;\n",
       "    }\n",
       "\n",
       "    .dataframe tbody tr th {\n",
       "        vertical-align: top;\n",
       "    }\n",
       "\n",
       "    .dataframe thead th {\n",
       "        text-align: right;\n",
       "    }\n",
       "</style>\n",
       "<table border=\"1\" class=\"dataframe\">\n",
       "  <thead>\n",
       "    <tr style=\"text-align: right;\">\n",
       "      <th></th>\n",
       "      <th>faa</th>\n",
       "      <th>name</th>\n",
       "      <th>lat</th>\n",
       "      <th>lon</th>\n",
       "      <th>alt</th>\n",
       "      <th>tz</th>\n",
       "      <th>dst</th>\n",
       "      <th>tzone</th>\n",
       "    </tr>\n",
       "  </thead>\n",
       "  <tbody>\n",
       "    <tr>\n",
       "      <th>1290</th>\n",
       "      <td>SYA</td>\n",
       "      <td>Eareckson As</td>\n",
       "      <td>52.712275</td>\n",
       "      <td>174.113620</td>\n",
       "      <td>98</td>\n",
       "      <td>-9</td>\n",
       "      <td>A</td>\n",
       "      <td>America/Anchorage</td>\n",
       "    </tr>\n",
       "    <tr>\n",
       "      <th>942</th>\n",
       "      <td>MYF</td>\n",
       "      <td>Montgomery Field</td>\n",
       "      <td>32.475900</td>\n",
       "      <td>117.759000</td>\n",
       "      <td>17</td>\n",
       "      <td>8</td>\n",
       "      <td>A</td>\n",
       "      <td>Asia/Chongqing</td>\n",
       "    </tr>\n",
       "    <tr>\n",
       "      <th>396</th>\n",
       "      <td>DVT</td>\n",
       "      <td>Deer Valley Municipal Airport</td>\n",
       "      <td>33.411700</td>\n",
       "      <td>112.457000</td>\n",
       "      <td>1478</td>\n",
       "      <td>8</td>\n",
       "      <td>A</td>\n",
       "      <td>Asia/Chongqing</td>\n",
       "    </tr>\n",
       "    <tr>\n",
       "      <th>417</th>\n",
       "      <td>EEN</td>\n",
       "      <td>Dillant Hopkins Airport</td>\n",
       "      <td>72.270833</td>\n",
       "      <td>42.898333</td>\n",
       "      <td>149</td>\n",
       "      <td>-5</td>\n",
       "      <td>A</td>\n",
       "      <td>NaN</td>\n",
       "    </tr>\n",
       "    <tr>\n",
       "      <th>444</th>\n",
       "      <td>EPM</td>\n",
       "      <td>Eastport Municipal Airport</td>\n",
       "      <td>44.910111</td>\n",
       "      <td>-67.012694</td>\n",
       "      <td>45</td>\n",
       "      <td>-5</td>\n",
       "      <td>A</td>\n",
       "      <td>America/New_York</td>\n",
       "    </tr>\n",
       "  </tbody>\n",
       "</table>\n",
       "</div>"
      ],
      "text/plain": [
       "      faa                           name        lat         lon   alt  tz dst  \\\n",
       "1290  SYA                   Eareckson As  52.712275  174.113620    98  -9   A   \n",
       "942   MYF               Montgomery Field  32.475900  117.759000    17   8   A   \n",
       "396   DVT  Deer Valley Municipal Airport  33.411700  112.457000  1478   8   A   \n",
       "417   EEN        Dillant Hopkins Airport  72.270833   42.898333   149  -5   A   \n",
       "444   EPM     Eastport Municipal Airport  44.910111  -67.012694    45  -5   A   \n",
       "\n",
       "                  tzone  \n",
       "1290  America/Anchorage  \n",
       "942      Asia/Chongqing  \n",
       "396      Asia/Chongqing  \n",
       "417                 NaN  \n",
       "444    America/New_York  "
      ]
     },
     "execution_count": 157,
     "metadata": {},
     "output_type": "execute_result"
    }
   ],
   "source": [
    "airports.sort_values(by='lon',ascending=False).head()"
   ]
  },
  {
   "cell_type": "markdown",
   "id": "ec9ea89a",
   "metadata": {},
   "source": [
    "Similar to what we did above, we first need to remove any NaN data that is relevant to our search."
   ]
  },
  {
   "cell_type": "code",
   "execution_count": 158,
   "id": "e5be8b75",
   "metadata": {},
   "outputs": [
    {
     "data": {
      "text/plain": [
       "174.11362"
      ]
     },
     "execution_count": 158,
     "metadata": {},
     "output_type": "execute_result"
    }
   ],
   "source": [
    "airports.dropna(how='all').lon.max()"
   ]
  },
  {
   "cell_type": "code",
   "execution_count": 159,
   "id": "e5d66f84",
   "metadata": {},
   "outputs": [
    {
     "data": {
      "text/html": [
       "<div>\n",
       "<style scoped>\n",
       "    .dataframe tbody tr th:only-of-type {\n",
       "        vertical-align: middle;\n",
       "    }\n",
       "\n",
       "    .dataframe tbody tr th {\n",
       "        vertical-align: top;\n",
       "    }\n",
       "\n",
       "    .dataframe thead th {\n",
       "        text-align: right;\n",
       "    }\n",
       "</style>\n",
       "<table border=\"1\" class=\"dataframe\">\n",
       "  <thead>\n",
       "    <tr style=\"text-align: right;\">\n",
       "      <th></th>\n",
       "      <th>faa</th>\n",
       "      <th>name</th>\n",
       "      <th>lat</th>\n",
       "      <th>lon</th>\n",
       "      <th>alt</th>\n",
       "      <th>tz</th>\n",
       "      <th>dst</th>\n",
       "      <th>tzone</th>\n",
       "    </tr>\n",
       "  </thead>\n",
       "  <tbody>\n",
       "    <tr>\n",
       "      <th>1290</th>\n",
       "      <td>SYA</td>\n",
       "      <td>Eareckson As</td>\n",
       "      <td>52.712275</td>\n",
       "      <td>174.11362</td>\n",
       "      <td>98</td>\n",
       "      <td>-9</td>\n",
       "      <td>A</td>\n",
       "      <td>America/Anchorage</td>\n",
       "    </tr>\n",
       "  </tbody>\n",
       "</table>\n",
       "</div>"
      ],
      "text/plain": [
       "      faa          name        lat        lon  alt  tz dst              tzone\n",
       "1290  SYA  Eareckson As  52.712275  174.11362   98  -9   A  America/Anchorage"
      ]
     },
     "execution_count": 159,
     "metadata": {},
     "output_type": "execute_result"
    }
   ],
   "source": [
    "airports[(airports.lon) > 174]"
   ]
  },
  {
   "cell_type": "markdown",
   "id": "b4eb343b",
   "metadata": {},
   "source": [
    "We see that searching for the max value for the desired category and comparing it to our result find a correct answer."
   ]
  },
  {
   "cell_type": "markdown",
   "id": "2e063426",
   "metadata": {},
   "source": [
    "___"
   ]
  },
  {
   "cell_type": "markdown",
   "id": "6aa0ffea",
   "metadata": {},
   "source": [
    "#### On February 12th, 2013, which New York area airport had the windiest weather? "
   ]
  },
  {
   "cell_type": "code",
   "execution_count": 112,
   "id": "3792628b",
   "metadata": {},
   "outputs": [],
   "source": [
    "import datetime"
   ]
  },
  {
   "cell_type": "code",
   "execution_count": 113,
   "id": "eb0cc749",
   "metadata": {},
   "outputs": [],
   "source": [
    "windgust = weather[(weather.time_hour>='2013-02-12') & (weather.time_hour<'2013-02-13')]"
   ]
  },
  {
   "cell_type": "code",
   "execution_count": 114,
   "id": "8f8dc684",
   "metadata": {},
   "outputs": [
    {
     "name": "stderr",
     "output_type": "stream",
     "text": [
      "/tmp/ipykernel_7666/3362276890.py:1: SettingWithCopyWarning: \n",
      "A value is trying to be set on a copy of a slice from a DataFrame\n",
      "\n",
      "See the caveats in the documentation: https://pandas.pydata.org/pandas-docs/stable/user_guide/indexing.html#returning-a-view-versus-a-copy\n",
      "  windgust.dropna(subset=['wind_speed', 'wind_gust'],how='any', inplace=True)\n"
     ]
    }
   ],
   "source": [
    "windgust.dropna(subset=['wind_speed', 'wind_gust'],how='any', inplace=True)"
   ]
  },
  {
   "cell_type": "code",
   "execution_count": 115,
   "id": "c5d14274",
   "metadata": {},
   "outputs": [
    {
     "data": {
      "text/html": [
       "<div>\n",
       "<style scoped>\n",
       "    .dataframe tbody tr th:only-of-type {\n",
       "        vertical-align: middle;\n",
       "    }\n",
       "\n",
       "    .dataframe tbody tr th {\n",
       "        vertical-align: top;\n",
       "    }\n",
       "\n",
       "    .dataframe thead th {\n",
       "        text-align: right;\n",
       "    }\n",
       "</style>\n",
       "<table border=\"1\" class=\"dataframe\">\n",
       "  <thead>\n",
       "    <tr style=\"text-align: right;\">\n",
       "      <th></th>\n",
       "      <th>origin</th>\n",
       "      <th>year</th>\n",
       "      <th>month</th>\n",
       "      <th>day</th>\n",
       "      <th>hour</th>\n",
       "      <th>temp</th>\n",
       "      <th>dewp</th>\n",
       "      <th>humid</th>\n",
       "      <th>wind_dir</th>\n",
       "      <th>wind_speed</th>\n",
       "      <th>wind_gust</th>\n",
       "      <th>precip</th>\n",
       "      <th>pressure</th>\n",
       "      <th>visib</th>\n",
       "      <th>time_hour</th>\n",
       "    </tr>\n",
       "  </thead>\n",
       "  <tbody>\n",
       "    <tr>\n",
       "      <th>18417</th>\n",
       "      <td>LGA</td>\n",
       "      <td>2013</td>\n",
       "      <td>2</td>\n",
       "      <td>12</td>\n",
       "      <td>2</td>\n",
       "      <td>42.98</td>\n",
       "      <td>26.06</td>\n",
       "      <td>50.94</td>\n",
       "      <td>290.0</td>\n",
       "      <td>23.0156</td>\n",
       "      <td>31.07106</td>\n",
       "      <td>0.0</td>\n",
       "      <td>1007.1</td>\n",
       "      <td>10.0</td>\n",
       "      <td>2013-02-12T07:00:00Z</td>\n",
       "    </tr>\n",
       "  </tbody>\n",
       "</table>\n",
       "</div>"
      ],
      "text/plain": [
       "      origin  year  month  day  hour   temp   dewp  humid  wind_dir  \\\n",
       "18417    LGA  2013      2   12     2  42.98  26.06  50.94     290.0   \n",
       "\n",
       "       wind_speed  wind_gust  precip  pressure  visib             time_hour  \n",
       "18417     23.0156   31.07106     0.0    1007.1   10.0  2013-02-12T07:00:00Z  "
      ]
     },
     "execution_count": 115,
     "metadata": {},
     "output_type": "execute_result"
    }
   ],
   "source": [
    "windgust[windgust.wind_speed == windgust['wind_speed'].max()]"
   ]
  },
  {
   "cell_type": "markdown",
   "id": "44319348",
   "metadata": {},
   "source": [
    "The answer is LGA or Laguardia Airport"
   ]
  }
 ],
 "metadata": {
  "kernelspec": {
   "display_name": "Python 3 (ipykernel)",
   "language": "python",
   "name": "python3"
  },
  "language_info": {
   "codemirror_mode": {
    "name": "ipython",
    "version": 3
   },
   "file_extension": ".py",
   "mimetype": "text/x-python",
   "name": "python",
   "nbconvert_exporter": "python",
   "pygments_lexer": "ipython3",
   "version": "3.9.7"
  }
 },
 "nbformat": 4,
 "nbformat_minor": 5
}
